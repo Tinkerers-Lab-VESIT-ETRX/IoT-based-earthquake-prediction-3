{
  "nbformat": 4,
  "nbformat_minor": 0,
  "metadata": {
    "colab": {
      "name": "earthquake.ipynb",
      "provenance": [],
      "collapsed_sections": []
    },
    "kernelspec": {
      "name": "python3",
      "display_name": "Python 3"
    }
  },
  "cells": [
    {
      "cell_type": "markdown",
      "metadata": {
        "id": "CazISR8X_HUG"
      },
      "source": [
        "# Multiple Linear Regression"
      ]
    },
    {
      "cell_type": "markdown",
      "metadata": {
        "id": "pOyqYHTk_Q57"
      },
      "source": [
        "## Importing the libraries"
      ]
    },
    {
      "cell_type": "code",
      "metadata": {
        "id": "T_YHJjnD_Tja"
      },
      "source": [
        "import numpy as np\n",
        "import matplotlib.pyplot as plt\n",
        "import pandas as pd"
      ],
      "execution_count": null,
      "outputs": []
    },
    {
      "cell_type": "markdown",
      "metadata": {
        "id": "vgC61-ah_WIz"
      },
      "source": [
        "## Importing the dataset"
      ]
    },
    {
      "cell_type": "code",
      "metadata": {
        "id": "UrxyEKGn_ez7"
      },
      "source": [
        "dataset = pd.read_csv('earthquake.csv')\n",
        "X = dataset.iloc[:50, 11:13].values\n",
        "y = dataset.iloc[:50, 13].values"
      ],
      "execution_count": null,
      "outputs": []
    },
    {
      "cell_type": "code",
      "metadata": {
        "id": "GOB3QhV9B5kD",
        "colab": {
          "base_uri": "https://localhost:8080/"
        },
        "outputId": "1679596c-56b4-4802-a436-267f95c61c38"
      },
      "source": [
        "print(X)"
      ],
      "execution_count": null,
      "outputs": [
        {
          "output_type": "stream",
          "text": [
            "[[4.1 4.1]\n",
            " [4.  3.8]\n",
            " [3.7 0. ]\n",
            " [3.5 3.5]\n",
            " [4.3 4.3]\n",
            " [3.5 3.5]\n",
            " [4.5 0. ]\n",
            " [3.8 3.8]\n",
            " [3.8 3.8]\n",
            " [4.3 0. ]\n",
            " [3.5 0. ]\n",
            " [3.6 3.6]\n",
            " [3.6 3.6]\n",
            " [3.6 3.6]\n",
            " [3.7 0. ]\n",
            " [3.9 0. ]\n",
            " [3.5 3.5]\n",
            " [3.7 0. ]\n",
            " [3.5 3.5]\n",
            " [4.1 0. ]\n",
            " [5.  4.7]\n",
            " [3.7 3.7]\n",
            " [3.7 3.7]\n",
            " [3.7 0. ]\n",
            " [3.5 0. ]\n",
            " [4.  4. ]\n",
            " [3.7 3.7]\n",
            " [5.  4.7]\n",
            " [4.5 4.3]\n",
            " [4.9 4.7]\n",
            " [4.2 0. ]\n",
            " [3.7 0. ]\n",
            " [3.6 0. ]\n",
            " [3.5 3.5]\n",
            " [3.6 3.6]\n",
            " [4.2 4.2]\n",
            " [3.7 3.7]\n",
            " [4.1 4.1]\n",
            " [3.6 3.6]\n",
            " [4.5 0. ]\n",
            " [3.9 0. ]\n",
            " [4.3 0. ]\n",
            " [4.2 4. ]\n",
            " [3.8 3.8]\n",
            " [4.5 0. ]\n",
            " [3.5 0. ]\n",
            " [4.9 0. ]\n",
            " [3.7 3.7]\n",
            " [3.5 3.5]\n",
            " [4.1 4.1]]\n"
          ],
          "name": "stdout"
        }
      ]
    },
    {
      "cell_type": "markdown",
      "metadata": {
        "id": "VadrvE7s_lS9"
      },
      "source": [
        "## Encoding categorical data"
      ]
    },
    {
      "cell_type": "code",
      "metadata": {
        "id": "wV3fD1mbAvsh"
      },
      "source": [
        "from sklearn.compose import ColumnTransformer\n",
        "from sklearn.preprocessing import OneHotEncoder\n",
        "ct = ColumnTransformer(transformers=[('encoder', OneHotEncoder(), [3])], remainder='passthrough')\n",
        "X = np.array(ct.fit_transform(X))"
      ],
      "execution_count": null,
      "outputs": []
    },
    {
      "cell_type": "code",
      "metadata": {
        "id": "4ym3HdYeCGYG",
        "colab": {
          "base_uri": "https://localhost:8080/"
        },
        "outputId": "d8e29be8-3037-47e2-e3e8-8a92d28260c4"
      },
      "source": [
        "print(X)"
      ],
      "execution_count": null,
      "outputs": [
        {
          "output_type": "stream",
          "text": [
            "[[4.1 4.1]\n",
            " [4.  3.8]\n",
            " [3.7 0. ]\n",
            " [3.5 3.5]\n",
            " [4.3 4.3]\n",
            " [3.5 3.5]\n",
            " [4.5 0. ]\n",
            " [3.8 3.8]\n",
            " [3.8 3.8]\n",
            " [4.3 0. ]\n",
            " [3.5 0. ]\n",
            " [3.6 3.6]\n",
            " [3.6 3.6]\n",
            " [3.6 3.6]\n",
            " [3.7 0. ]\n",
            " [3.9 0. ]\n",
            " [3.5 3.5]\n",
            " [3.7 0. ]\n",
            " [3.5 3.5]\n",
            " [4.1 0. ]\n",
            " [5.  4.7]\n",
            " [3.7 3.7]\n",
            " [3.7 3.7]\n",
            " [3.7 0. ]\n",
            " [3.5 0. ]\n",
            " [4.  4. ]\n",
            " [3.7 3.7]\n",
            " [5.  4.7]\n",
            " [4.5 4.3]\n",
            " [4.9 4.7]\n",
            " [4.2 0. ]\n",
            " [3.7 0. ]\n",
            " [3.6 0. ]\n",
            " [3.5 3.5]\n",
            " [3.6 3.6]\n",
            " [4.2 4.2]\n",
            " [3.7 3.7]\n",
            " [4.1 4.1]\n",
            " [3.6 3.6]\n",
            " [4.5 0. ]\n",
            " [3.9 0. ]\n",
            " [4.3 0. ]\n",
            " [4.2 4. ]\n",
            " [3.8 3.8]\n",
            " [4.5 0. ]\n",
            " [3.5 0. ]\n",
            " [4.9 0. ]\n",
            " [3.7 3.7]\n",
            " [3.5 3.5]\n",
            " [4.1 4.1]]\n"
          ],
          "name": "stdout"
        }
      ]
    },
    {
      "cell_type": "markdown",
      "metadata": {
        "id": "WemVnqgeA70k"
      },
      "source": [
        "## Splitting the dataset into the Training set and Test set"
      ]
    },
    {
      "cell_type": "code",
      "metadata": {
        "id": "Kb_v_ae-A-20"
      },
      "source": [
        "from sklearn.model_selection import train_test_split\n",
        "X_train, X_test, y_train, y_test = train_test_split(X, y, test_size = 0.2, random_state = 0)"
      ],
      "execution_count": null,
      "outputs": []
    },
    {
      "cell_type": "markdown",
      "metadata": {
        "id": "k-McZVsQBINc"
      },
      "source": [
        "## Training the Multiple Linear Regression model on the Training set"
      ]
    },
    {
      "cell_type": "code",
      "metadata": {
        "id": "ywPjx0L1BMiD",
        "colab": {
          "base_uri": "https://localhost:8080/"
        },
        "outputId": "d70eb06a-1ef1-4fa4-f2fc-8182d1d142d6"
      },
      "source": [
        "from sklearn.linear_model import LinearRegression\n",
        "regressor = LinearRegression()\n",
        "regressor.fit(X_train, y_train)"
      ],
      "execution_count": null,
      "outputs": [
        {
          "output_type": "execute_result",
          "data": {
            "text/plain": [
              "LinearRegression(copy_X=True, fit_intercept=True, n_jobs=None, normalize=False)"
            ]
          },
          "metadata": {
            "tags": []
          },
          "execution_count": 19
        }
      ]
    },
    {
      "cell_type": "markdown",
      "metadata": {
        "id": "xNkXL1YQBiBT"
      },
      "source": [
        "## Predicting the Test set results"
      ]
    },
    {
      "cell_type": "code",
      "metadata": {
        "id": "TQKmwvtdBkyb",
        "colab": {
          "base_uri": "https://localhost:8080/"
        },
        "outputId": "bcedcbd2-fc97-45e1-e8a9-ef08bc58d8ec"
      },
      "source": [
        "y_pred = regressor.predict(X_test)\n",
        "np.set_printoptions(precision=2)\n",
        "print(np.concatenate((y_pred.reshape(len(y_pred),1), y_test.reshape(len(y_test),1)),1))"
      ],
      "execution_count": null,
      "outputs": [
        {
          "output_type": "stream",
          "text": [
            "[[ 2.51  4.3 ]\n",
            " [-0.06  0.  ]\n",
            " [ 0.62  3.5 ]\n",
            " [ 3.08  4.3 ]\n",
            " [ 1.23  0.  ]\n",
            " [ 3.94  4.7 ]\n",
            " [-0.06  0.  ]\n",
            " [ 1.23  0.  ]\n",
            " [ 0.22  0.  ]\n",
            " [ 1.9   0.  ]]\n"
          ],
          "name": "stdout"
        }
      ]
    }
  ]
}